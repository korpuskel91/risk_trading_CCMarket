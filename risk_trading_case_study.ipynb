{
 "cells": [
  {
   "cell_type": "code",
   "execution_count": 1,
   "metadata": {},
   "outputs": [
    {
     "data": {
      "text/html": [
       "<style>.container { width:80% !important; }</style>"
      ]
     },
     "metadata": {},
     "output_type": "display_data"
    }
   ],
   "source": [
    "# IJulia.qtconsole();\n",
    "\n",
    "# set width of notbook \n",
    "display(\"text/html\", \"<style>.container { width:80% !important; }</style>\")\n",
    "ENV[\"Columns\"] = 5000;"
   ]
  },
  {
   "cell_type": "code",
   "execution_count": 6,
   "metadata": {},
   "outputs": [
    {
     "name": "stdout",
     "output_type": "stream",
     "text": [
      "\u001b[32m\u001b[1mActivating\u001b[22m\u001b[39m environment at `C:\\Users\\Robert\\Promotion\\Workshop\\05_risk_trading\\Project.toml`\n"
     ]
    }
   ],
   "source": [
    "using Pkg\n",
    "Pkg.activate(\".\")\n",
    "# Pkg.instantiate()"
   ]
  },
  {
   "cell_type": "code",
   "execution_count": 7,
   "metadata": {},
   "outputs": [],
   "source": [
    "using LinearAlgebra, DataFrames, Dates\n",
    "using CSV\n",
    "using JuMP\n",
    "using Mosek, MosekTools\n",
    "# using Gurobi\n",
    "using Distributions"
   ]
  },
  {
   "cell_type": "code",
   "execution_count": 8,
   "metadata": {},
   "outputs": [
    {
     "data": {
      "text/plain": [
       "save_results (generic function with 1 method)"
      ]
     },
     "execution_count": 8,
     "metadata": {},
     "output_type": "execute_result"
    }
   ],
   "source": [
    "# Define some useful functions\n",
    "\n",
    "function m_to_resdf(m)\n",
    "\n",
    "    # Generator Results\n",
    "    p_res = value.(m[:p])\n",
    "    deltap = dual.(m[:δp])\n",
    "    deltam = dual.(m[:δm])\n",
    "    t_res = value.(m[:t])\n",
    "    genset = collect(1:n_generators)\n",
    "    gen_results_df = DataFrame(generator = genset, p_res = p_res, deltap = deltap, deltam = deltam, t = t_res)\n",
    "\n",
    "    # Alpha Results\n",
    "    alpha_res = value.(m[:α])\n",
    "    alpha_results_df = DataFrame(alpha_res)\n",
    "    colnames = [\"alpha_u$(i)\" for i in 1:n_res]\n",
    "    rename!(alpha_results_df, Symbol.(colnames))\n",
    "    insertcols!(alpha_results_df, 1, :generator => genset)\n",
    "\n",
    "    # Energy \n",
    "    lambda_res = dual.(m[:λ])\n",
    "    lambda_res_df = DataFrame(lambda = lambda_res)\n",
    "\n",
    "    # Balancing\n",
    "    chi_res = dual.(m[:χ])\n",
    "    chi_res_df = DataFrame(chi = chi_res)\n",
    "\n",
    "\n",
    "    # ADS Results\n",
    "    try \n",
    "        global mu_res = dual.(m[:μ])\n",
    "        global mu_bal_res = dual.(m[:mubal])[1,:]\n",
    "    catch\n",
    "        global mu_res = zeros(n_events)\n",
    "        global mu_bal_res = zeros(n_events/2)\n",
    "    end\n",
    "    # Correct forced symmetry\n",
    "    mu_res = mu_res ./ 2\n",
    "    mu_res[1:4] = mu_bal_res\n",
    "    mu_res_df = DataFrame(mu = mu_res)\n",
    "\n",
    "    try\n",
    "        global a_res = value.(m[:a])\n",
    "    catch\n",
    "        global a_res = zeros(n_generators, n_events)\n",
    "    end\n",
    "    ads_results_df = DataFrame(a_res)\n",
    "    colnames = [\"a_w$(i)\" for i in 1:n_events]\n",
    "    rename!(ads_results_df, Symbol.(colnames))\n",
    "    insertcols!(ads_results_df, 1, :generator => genset)\n",
    "    ads_payments = [sum(a_res[i,w]*mu_res[w] for w in 1:n_events) for i in 1:n_generators]\n",
    "    insertcols!(ads_results_df, 2, :ads_payment => ads_payments)\n",
    "\n",
    "    gen_res_joined_df = join(gen_results_df, alpha_results_df, on=:generator)\n",
    "    gen_res_joined_df = join(gen_res_joined_df, ads_results_df, on=:generator)\n",
    "    \n",
    "    return gen_res_joined_df, lambda_res_df, chi_res_df, mu_res_df\n",
    "end\n",
    "\n",
    "\n",
    "function save_results(res_dfs, ex_name)\n",
    "    timestamp = Dates.format(Dates.now(), \"yymmdd_HHMM\")\n",
    "    resultdf_names = [\"gen_results\", \"lambda\", \"chi\", \"mu\"]\n",
    "    savepath = \"results/$(ex_name)_$(timestamp)\"\n",
    "    for (name, res_df) in res_dfs\n",
    "        mkpath(\"$(savepath)/$(name)\")\n",
    "        for (i,res) in enumerate(resultdf_names)\n",
    "            CSV.write(\"$(savepath)/$(name)/$(res).csv\", res_df[i])\n",
    "        end\n",
    "    end   \n",
    "    \n",
    "    timestamp = \"latest\"\n",
    "    resultdf_names = [\"gen_results\", \"lambda\", \"chi\", \"mu\"]\n",
    "    savepath = \"results/$(ex_name)_$(timestamp)\"\n",
    "    for (name, res_df) in res_dfs\n",
    "        mkpath(\"$(savepath)/$(name)\")\n",
    "        for (i,res) in enumerate(resultdf_names)\n",
    "            CSV.write(\"$(savepath)/$(name)/$(res).csv\", res_df[i])\n",
    "        end\n",
    "    end   \n",
    "end\n",
    "\n",
    "\n"
   ]
  },
  {
   "cell_type": "code",
   "execution_count": null,
   "metadata": {},
   "outputs": [],
   "source": [
    "# Data Generation\n",
    "\n",
    "# Generators\n",
    "n_generators = 5\n",
    "\n",
    "c=zeros(2,n_generators)\n",
    "c[1,1] = 10\n",
    "c[1,2] = 7\n",
    "c[1,3] = 7\n",
    "c[1,4] = 15\n",
    "c[1,5] = 17\n",
    "\n",
    "c[2,:] = 0.1 .* c[1,:]\n",
    "\n",
    "pmax = ones(n_generators)\n",
    "\n",
    "pmax[1] = 30\n",
    "pmax[2] = 10\n",
    "pmax[3] = 10\n",
    "pmax[4] = 25\n",
    "pmax[5] = 25\n",
    "\n",
    "# Demand\n",
    "D = 100\n",
    "\n",
    "# RES\n",
    "n_res = 5\n",
    "res = zeros(n_res)\n",
    "res[1] = 5\n",
    "res[2] = 5\n",
    "res[3] = 5\n",
    "res[4] = 5\n",
    "res[5] = 5\n",
    "\n",
    "σ_true = 0.2 .* res\n",
    "\n",
    "Σ_true = diagm(0 => σ_true)\n",
    "\n",
    "\n",
    "# Create some uncertainty sets\n",
    "K_total = 50-1\n",
    "max_correlation = 0.5\n",
    "σ_max = 2 .* σ_true\n",
    "Σ_k = [Σ_true]\n",
    "for k in 1:K_total\n",
    "    im_flag = true\n",
    "    tries = 0\n",
    "    while im_flag && (tries <=50)\n",
    "        global Sk = zeros(n_res,n_res)\n",
    "        sigmas = [σ_max[i] * rand() for i in 1:n_generators]\n",
    "        corr = zeros(n_res,n_res)\n",
    "        for i in 1:n_res\n",
    "            for j in i:n_res\n",
    "                if i == j\n",
    "                    corr = 1\n",
    "                else\n",
    "                    corr = rand()*max_correlation # Negative Correlation in RES doesnät really make sense\n",
    "                end\n",
    "                Sk[i,j] = corr*sigmas[i]*sigmas[j]\n",
    "                Sk[j,i] = corr*sigmas[i]*sigmas[j]\n",
    "            end\n",
    "        end\n",
    "        imval = sum(imag(sqrt(Sk)))\n",
    "        if imval == 0\n",
    "            im_flag = false\n",
    "        end\n",
    "        tries = tries + 1\n",
    "    end\n",
    "    if tries == 51\n",
    "        println(\"WARNING, non rootable covarmat at $k\")\n",
    "    end\n",
    "    push!(Σ_k, Sk)\n",
    "end\n",
    "\n",
    "# Every Producers shares the true and one random covariance matrix\n",
    "# 8 more a picked randomly from the available matrices\n",
    "K = 10\n",
    "K_set = []\n",
    "shared = [1]\n",
    "for i in 1:n_generators\n",
    "    K_set_i = vcat(shared, Int.(ceil.(rand(K - length(shared)).*(K_total-2) .+ 2)))\n",
    "    push!(K_set, K_set_i)\n",
    "end\n",
    "\n",
    "\n",
    "# Calculate ADS events\n",
    "n_events = 8\n",
    "res_forecast = sum(res)\n",
    "W = []\n",
    "push!(W, Dict(\"l\" => -99999., \"u\" => -0.2*res_forecast))\n",
    "push!(W, Dict(\"l\" => W[1][\"u\"], \"u\" => -0.1*res_forecast))\n",
    "push!(W, Dict(\"l\" => W[2][\"u\"], \"u\" => -0.05*res_forecast))\n",
    "push!(W, Dict(\"l\" => W[3][\"u\"], \"u\" => 0.))\n",
    "push!(W, Dict(\"l\" => W[4][\"u\"], \"u\" => 0.05*res_forecast))\n",
    "push!(W, Dict(\"l\" => W[5][\"u\"], \"u\" => 0.1*res_forecast))\n",
    "push!(W, Dict(\"l\" => W[6][\"u\"], \"u\" => 0.2*res_forecast))\n",
    "push!(W, Dict(\"l\" => W[7][\"u\"], \"u\" => 99999.))\n",
    "\n",
    "# Calculate Event Probabilities\n",
    "P = zeros(n_events, K_total) \n",
    "for (w, event) in enumerate(W)\n",
    "    for k in 1:K_total\n",
    "        sigma_k = sqrt(sum(Σ_k[k]))\n",
    "        d_k = Normal(0, sigma_k)\n",
    "        p_up = cdf(d_k, event[\"u\"])\n",
    "        p_low = cdf(d_k, event[\"l\"])\n",
    "        P[w,k] = p_up-p_low\n",
    "    end\n",
    "end"
   ]
  },
  {
   "cell_type": "code",
   "execution_count": null,
   "metadata": {},
   "outputs": [],
   "source": [
    "# Simple ED Model WITH risk-trading\n",
    "\n",
    "m_ads = Model(Mosek.Optimizer)\n",
    "set_optimizer_attribute(m_ads, \"MSK_IPAR_LOG\", 0)\n",
    "\n",
    "@variable(m_ads, p[1:n_generators])\n",
    "@variable(m_ads, α[1:n_generators, 1:n_res] >= 0)\n",
    "@variable(m_ads, a[1:n_generators, 1:n_events])\n",
    "@variable(m_ads, t[1:n_generators]) # Auxillary WC expected cost\n",
    "@variable(m_ads, s[1:n_generators, 1:K] >= 0) # Auxiallary Quadratic Balancing Cost\n",
    "\n",
    "@objective(m_ads, Min, sum(c[2,i]*p[i]^2 + c[1,i]*p[i] + t[i] for i in 1:n_generators))\n",
    "\n",
    "# Expected cost\n",
    "bal_part = []\n",
    "\n",
    "for k in 1:K\n",
    "    for i in 1:n_generators\n",
    "        Σ_k_root = sqrt(Σ_k[K_set[i][k]])\n",
    "        @constraint(m_ads, vec(hcat(s[i,k], 0.5, α[i,:]'*Σ_k_root)) in  RotatedSecondOrderCone())\n",
    "    end\n",
    "end\n",
    "@constraint(m_ads, eta[i=1:n_generators, k=1:K], t[i] >= c[2,i]*s[i,k] - sum(a[i,w]*(P[:,K_set[i]][w,k]) for w in 1:n_events))\n",
    "\n",
    "# Generator Limits\n",
    "@constraint(m_ads, δp[i=1:n_generators], p[i] <= pmax[i])\n",
    "@constraint(m_ads, δm[i=1:n_generators], p[i] >= 0)\n",
    "\n",
    "# Energy Balance\n",
    "@constraint(m_ads, λ, sum(p[i] for i in 1:n_generators) == D - sum(res))\n",
    "\n",
    "# Reserve Balance\n",
    "@constraint(m_ads, χ[u=1:n_res], sum(α[i,u] for i in 1:n_generators) == 1.)\n",
    "\n",
    "# ADS Balance\n",
    "@constraint(m_ads, μ[w=1:n_events], sum(a[i,w] for i in 1:n_generators) == 0.)\n",
    "@constraint(m_ads, mubal[i=1:n_generators, w=1:4], a[i,w] == a[i,n_events-w+1]) # Because of symmetry solver would cluster decisions on one side only\n",
    "\n",
    "println(\"ok\")\n",
    "optimize!(m_ads)"
   ]
  },
  {
   "cell_type": "code",
   "execution_count": null,
   "metadata": {},
   "outputs": [],
   "source": [
    "# Very Simple ED Model WITHOUT risk-trading\n",
    "\n",
    "m = Model(Mosek.Optimizer)\n",
    "set_optimizer_attribute(m, \"MSK_IPAR_LOG\", 0)\n",
    "\n",
    "@variable(m, p[1:n_generators])\n",
    "@variable(m, α[1:n_generators, 1:n_res] >= 0)\n",
    "@variable(m, t[1:n_generators]) # Auxillary WC expected cost\n",
    "@variable(m, s[1:n_generators, 1:K] >= 0) # Auxiallary Quadratic Balancing Cost\n",
    "\n",
    "@objective(m, Min, sum(c[2,i]*p[i]^2 + c[1,i]*p[i] + t[i] for i in 1:n_generators))\n",
    "\n",
    "# Expected cost\n",
    "bal_part = []\n",
    "\n",
    "for k in 1:K\n",
    "    for i in 1:n_generators\n",
    "        Σ_k_root = sqrt(Σ_k[K_set[i][k]])\n",
    "        @constraint(m, vec(hcat(s[i,k], 0.5, α[i,:]'*Σ_k_root)) in  RotatedSecondOrderCone())\n",
    "    end\n",
    "end\n",
    "@constraint(m, eta[i=1:n_generators, k=1:K], t[i] >= c[2,i]*s[i,k])\n",
    "\n",
    "# Generator Limits\n",
    "@constraint(m, δp[i=1:n_generators], p[i] <= pmax[i])\n",
    "@constraint(m, δm[i=1:n_generators], p[i] >= 0)\n",
    "\n",
    "# Energy Balance\n",
    "@constraint(m, λ, sum(p[i] for i in 1:n_generators) == D - sum(res))\n",
    "\n",
    "# Reserve Balance\n",
    "@constraint(m, χ[u=1:n_res], sum(α[i,u] for i in 1:n_generators) == 1.)\n",
    "\n",
    "\n",
    "println(\"ok\")\n",
    "optimize!(m)"
   ]
  },
  {
   "cell_type": "code",
   "execution_count": 66,
   "metadata": {},
   "outputs": [
    {
     "ename": "BoundsError",
     "evalue": "BoundsError: attempt to access 0-element Array{Any,1} at index [1]",
     "output_type": "error",
     "traceback": [
      "BoundsError: attempt to access 0-element Array{Any,1} at index [1]",
      "",
      "Stacktrace:",
      " [1] setindex! at .\\essentials.jl:451 [inlined]",
      " [2] setindex!(::Array{Any,1}, ::Array{Float64,1}, ::UnitRange{Int64}) at .\\array.jl:796",
      " [3] m_to_resdf(::Model) at .\\In[65]:40",
      " [4] top-level scope at In[66]:1"
     ]
    }
   ],
   "source": [
    "results_dfs = Dict(\n",
    "    \"withADS\" => m_to_resdf(m_ads),\n",
    "    \"noADS\" => m_to_resdf(m)\n",
    ")\n",
    "\n",
    "Ps = P[:,K_set[1]]\n",
    "for i in 2:n_generators\n",
    "    Ps = hcat(Ps, P[:,K_set[i]])\n",
    "end\n",
    "Ps_df = DataFrame(Ps');\n",
    "\n",
    "save_results(results_dfs, \"simple_ED\")\n",
    "CSV.write(\"results/Ps.csv\", Ps_df)"
   ]
  },
  {
   "cell_type": "code",
   "execution_count": 56,
   "metadata": {},
   "outputs": [
    {
     "data": {
      "text/html": [
       "<table class=\"data-frame\"><thead><tr><th></th><th>generator</th><th>p_res</th><th>deltap</th><th>deltam</th><th>t</th><th>alpha_u1</th><th>alpha_u2</th><th>alpha_u3</th><th>alpha_u4</th><th>alpha_u5</th><th>ads_payment</th><th>a_w1</th><th>a_w2</th><th>a_w3</th><th>a_w4</th><th>a_w5</th><th>a_w6</th><th>a_w7</th><th>a_w8</th></tr><tr><th></th><th>Int64</th><th>Float64</th><th>Float64</th><th>Float64</th><th>Float64</th><th>Float64</th><th>Float64</th><th>Float64</th><th>Float64</th><th>Float64</th><th>Float64</th><th>Float64</th><th>Float64</th><th>Float64</th><th>Float64</th><th>Float64</th><th>Float64</th><th>Float64</th><th>Float64</th></tr></thead><tbody><p>5 rows × 19 columns</p><tr><th>1</th><td>1</td><td>26.0435</td><td>-4.98694e-10</td><td>-0.0</td><td>0.718262</td><td>0.185816</td><td>0.191672</td><td>0.230615</td><td>0.307363</td><td>0.239271</td><td>0.0</td><td>-0.0</td><td>-0.0</td><td>-0.0</td><td>-0.0</td><td>0.0</td><td>0.0</td><td>0.0</td><td>0.0</td></tr><tr><th>2</th><td>2</td><td>10.0</td><td>-41.087</td><td>-2.3867e-10</td><td>0.782135</td><td>0.385379</td><td>0.256744</td><td>0.31653</td><td>0.10113</td><td>0.250526</td><td>0.0</td><td>-0.0</td><td>-0.0</td><td>-0.0</td><td>-0.0</td><td>0.0</td><td>0.0</td><td>0.0</td><td>0.0</td></tr><tr><th>3</th><td>3</td><td>10.0</td><td>-41.087</td><td>-2.3867e-10</td><td>0.769047</td><td>0.367407</td><td>0.274478</td><td>0.120562</td><td>0.284919</td><td>0.227279</td><td>0.0</td><td>-0.0</td><td>-0.0</td><td>-0.0</td><td>-0.0</td><td>0.0</td><td>0.0</td><td>0.0</td><td>0.0</td></tr><tr><th>4</th><td>4</td><td>15.6957</td><td>1.99063e-10</td><td>-4.23984e-10</td><td>0.452166</td><td>0.0382066</td><td>0.148926</td><td>0.179412</td><td>0.138001</td><td>0.204543</td><td>0.0</td><td>-0.0</td><td>-0.0</td><td>-0.0</td><td>-0.0</td><td>0.0</td><td>0.0</td><td>0.0</td><td>0.0</td></tr><tr><th>5</th><td>5</td><td>13.2609</td><td>3.09217e-10</td><td>-3.67258e-10</td><td>0.362636</td><td>0.0231907</td><td>0.12818</td><td>0.152881</td><td>0.168587</td><td>0.0783809</td><td>0.0</td><td>0.0</td><td>0.0</td><td>0.0</td><td>0.0</td><td>-0.0</td><td>-0.0</td><td>-0.0</td><td>-0.0</td></tr></tbody></table>"
      ],
      "text/latex": [
       "\\begin{tabular}{r|ccccccccccccccccccc}\n",
       "\t& generator & p\\_res & deltap & deltam & t & alpha\\_u1 & alpha\\_u2 & alpha\\_u3 & alpha\\_u4 & alpha\\_u5 & ads\\_payment & a\\_w1 & a\\_w2 & a\\_w3 & a\\_w4 & a\\_w5 & a\\_w6 & a\\_w7 & a\\_w8\\\\\n",
       "\t\\hline\n",
       "\t& Int64 & Float64 & Float64 & Float64 & Float64 & Float64 & Float64 & Float64 & Float64 & Float64 & Float64 & Float64 & Float64 & Float64 & Float64 & Float64 & Float64 & Float64 & Float64\\\\\n",
       "\t\\hline\n",
       "\t1 & 1 & 26.0435 & -4.98694e-10 & -0.0 & 0.718262 & 0.185816 & 0.191672 & 0.230615 & 0.307363 & 0.239271 & 0.0 & -0.0 & -0.0 & -0.0 & -0.0 & 0.0 & 0.0 & 0.0 & 0.0 \\\\\n",
       "\t2 & 2 & 10.0 & -41.087 & -2.3867e-10 & 0.782135 & 0.385379 & 0.256744 & 0.31653 & 0.10113 & 0.250526 & 0.0 & -0.0 & -0.0 & -0.0 & -0.0 & 0.0 & 0.0 & 0.0 & 0.0 \\\\\n",
       "\t3 & 3 & 10.0 & -41.087 & -2.3867e-10 & 0.769047 & 0.367407 & 0.274478 & 0.120562 & 0.284919 & 0.227279 & 0.0 & -0.0 & -0.0 & -0.0 & -0.0 & 0.0 & 0.0 & 0.0 & 0.0 \\\\\n",
       "\t4 & 4 & 15.6957 & 1.99063e-10 & -4.23984e-10 & 0.452166 & 0.0382066 & 0.148926 & 0.179412 & 0.138001 & 0.204543 & 0.0 & -0.0 & -0.0 & -0.0 & -0.0 & 0.0 & 0.0 & 0.0 & 0.0 \\\\\n",
       "\t5 & 5 & 13.2609 & 3.09217e-10 & -3.67258e-10 & 0.362636 & 0.0231907 & 0.12818 & 0.152881 & 0.168587 & 0.0783809 & 0.0 & 0.0 & 0.0 & 0.0 & 0.0 & -0.0 & -0.0 & -0.0 & -0.0 \\\\\n",
       "\\end{tabular}\n"
      ],
      "text/plain": [
       "5×19 DataFrame\n",
       "│ Row │ generator │ p_res   │ deltap       │ deltam       │ t        │ alpha_u1  │ alpha_u2 │ alpha_u3 │ alpha_u4 │ alpha_u5  │ ads_payment │ a_w1    │ a_w2    │ a_w3    │ a_w4    │ a_w5    │ a_w6    │ a_w7    │ a_w8    │\n",
       "│     │ \u001b[90mInt64\u001b[39m     │ \u001b[90mFloat64\u001b[39m │ \u001b[90mFloat64\u001b[39m      │ \u001b[90mFloat64\u001b[39m      │ \u001b[90mFloat64\u001b[39m  │ \u001b[90mFloat64\u001b[39m   │ \u001b[90mFloat64\u001b[39m  │ \u001b[90mFloat64\u001b[39m  │ \u001b[90mFloat64\u001b[39m  │ \u001b[90mFloat64\u001b[39m   │ \u001b[90mFloat64\u001b[39m     │ \u001b[90mFloat64\u001b[39m │ \u001b[90mFloat64\u001b[39m │ \u001b[90mFloat64\u001b[39m │ \u001b[90mFloat64\u001b[39m │ \u001b[90mFloat64\u001b[39m │ \u001b[90mFloat64\u001b[39m │ \u001b[90mFloat64\u001b[39m │ \u001b[90mFloat64\u001b[39m │\n",
       "├─────┼───────────┼─────────┼──────────────┼──────────────┼──────────┼───────────┼──────────┼──────────┼──────────┼───────────┼─────────────┼─────────┼─────────┼─────────┼─────────┼─────────┼─────────┼─────────┼─────────┤\n",
       "│ 1   │ 1         │ 26.0435 │ -4.98694e-10 │ -0.0         │ 0.718262 │ 0.185816  │ 0.191672 │ 0.230615 │ 0.307363 │ 0.239271  │ 0.0         │ -0.0    │ -0.0    │ -0.0    │ -0.0    │ 0.0     │ 0.0     │ 0.0     │ 0.0     │\n",
       "│ 2   │ 2         │ 10.0    │ -41.087      │ -2.3867e-10  │ 0.782135 │ 0.385379  │ 0.256744 │ 0.31653  │ 0.10113  │ 0.250526  │ 0.0         │ -0.0    │ -0.0    │ -0.0    │ -0.0    │ 0.0     │ 0.0     │ 0.0     │ 0.0     │\n",
       "│ 3   │ 3         │ 10.0    │ -41.087      │ -2.3867e-10  │ 0.769047 │ 0.367407  │ 0.274478 │ 0.120562 │ 0.284919 │ 0.227279  │ 0.0         │ -0.0    │ -0.0    │ -0.0    │ -0.0    │ 0.0     │ 0.0     │ 0.0     │ 0.0     │\n",
       "│ 4   │ 4         │ 15.6957 │ 1.99063e-10  │ -4.23984e-10 │ 0.452166 │ 0.0382066 │ 0.148926 │ 0.179412 │ 0.138001 │ 0.204543  │ 0.0         │ -0.0    │ -0.0    │ -0.0    │ -0.0    │ 0.0     │ 0.0     │ 0.0     │ 0.0     │\n",
       "│ 5   │ 5         │ 13.2609 │ 3.09217e-10  │ -3.67258e-10 │ 0.362636 │ 0.0231907 │ 0.12818  │ 0.152881 │ 0.168587 │ 0.0783809 │ 0.0         │ 0.0     │ 0.0     │ 0.0     │ 0.0     │ -0.0    │ -0.0    │ -0.0    │ -0.0    │"
      ]
     },
     "execution_count": 56,
     "metadata": {},
     "output_type": "execute_result"
    }
   ],
   "source": [
    "results_dfs[\"withADS\"][1]"
   ]
  },
  {
   "cell_type": "code",
   "execution_count": 37,
   "metadata": {},
   "outputs": [
    {
     "data": {
      "text/html": [
       "<table class=\"data-frame\"><thead><tr><th></th><th>generator</th><th>p_res</th><th>deltap</th><th>deltam</th><th>t</th><th>alpha_u1</th><th>alpha_u2</th><th>alpha_u3</th><th>alpha_u4</th><th>alpha_u5</th><th>ads_payment</th><th>a_w1</th><th>a_w2</th><th>a_w3</th><th>a_w4</th><th>a_w5</th><th>a_w6</th><th>a_w7</th><th>a_w8</th></tr><tr><th></th><th>Int64</th><th>Float64</th><th>Float64</th><th>Float64</th><th>Float64</th><th>Float64</th><th>Float64</th><th>Float64</th><th>Float64</th><th>Float64</th><th>Float64</th><th>Float64</th><th>Float64</th><th>Float64</th><th>Float64</th><th>Float64</th><th>Float64</th><th>Float64</th><th>Float64</th></tr></thead><tbody><p>5 rows × 19 columns</p><tr><th>1</th><td>1</td><td>26.0435</td><td>-4.98694e-10</td><td>-0.0</td><td>0.718262</td><td>0.185816</td><td>0.191672</td><td>0.230615</td><td>0.307363</td><td>0.239271</td><td>0.0</td><td>0.0</td><td>0.0</td><td>0.0</td><td>0.0</td><td>0.0</td><td>0.0</td><td>0.0</td><td>0.0</td></tr><tr><th>2</th><td>2</td><td>10.0</td><td>-41.087</td><td>-2.3867e-10</td><td>0.782135</td><td>0.385379</td><td>0.256744</td><td>0.31653</td><td>0.10113</td><td>0.250526</td><td>0.0</td><td>0.0</td><td>0.0</td><td>0.0</td><td>0.0</td><td>0.0</td><td>0.0</td><td>0.0</td><td>0.0</td></tr><tr><th>3</th><td>3</td><td>10.0</td><td>-41.087</td><td>-2.3867e-10</td><td>0.769047</td><td>0.367407</td><td>0.274478</td><td>0.120562</td><td>0.284919</td><td>0.227279</td><td>0.0</td><td>0.0</td><td>0.0</td><td>0.0</td><td>0.0</td><td>0.0</td><td>0.0</td><td>0.0</td><td>0.0</td></tr><tr><th>4</th><td>4</td><td>15.6957</td><td>1.99063e-10</td><td>-4.23984e-10</td><td>0.452166</td><td>0.0382066</td><td>0.148926</td><td>0.179412</td><td>0.138001</td><td>0.204543</td><td>0.0</td><td>0.0</td><td>0.0</td><td>0.0</td><td>0.0</td><td>0.0</td><td>0.0</td><td>0.0</td><td>0.0</td></tr><tr><th>5</th><td>5</td><td>13.2609</td><td>3.09217e-10</td><td>-3.67258e-10</td><td>0.362636</td><td>0.0231907</td><td>0.12818</td><td>0.152881</td><td>0.168587</td><td>0.0783809</td><td>0.0</td><td>0.0</td><td>0.0</td><td>0.0</td><td>0.0</td><td>0.0</td><td>0.0</td><td>0.0</td><td>0.0</td></tr></tbody></table>"
      ],
      "text/latex": [
       "\\begin{tabular}{r|ccccccccccccccccccc}\n",
       "\t& generator & p\\_res & deltap & deltam & t & alpha\\_u1 & alpha\\_u2 & alpha\\_u3 & alpha\\_u4 & alpha\\_u5 & ads\\_payment & a\\_w1 & a\\_w2 & a\\_w3 & a\\_w4 & a\\_w5 & a\\_w6 & a\\_w7 & a\\_w8\\\\\n",
       "\t\\hline\n",
       "\t& Int64 & Float64 & Float64 & Float64 & Float64 & Float64 & Float64 & Float64 & Float64 & Float64 & Float64 & Float64 & Float64 & Float64 & Float64 & Float64 & Float64 & Float64 & Float64\\\\\n",
       "\t\\hline\n",
       "\t1 & 1 & 26.0435 & -4.98694e-10 & -0.0 & 0.718262 & 0.185816 & 0.191672 & 0.230615 & 0.307363 & 0.239271 & 0.0 & 0.0 & 0.0 & 0.0 & 0.0 & 0.0 & 0.0 & 0.0 & 0.0 \\\\\n",
       "\t2 & 2 & 10.0 & -41.087 & -2.3867e-10 & 0.782135 & 0.385379 & 0.256744 & 0.31653 & 0.10113 & 0.250526 & 0.0 & 0.0 & 0.0 & 0.0 & 0.0 & 0.0 & 0.0 & 0.0 & 0.0 \\\\\n",
       "\t3 & 3 & 10.0 & -41.087 & -2.3867e-10 & 0.769047 & 0.367407 & 0.274478 & 0.120562 & 0.284919 & 0.227279 & 0.0 & 0.0 & 0.0 & 0.0 & 0.0 & 0.0 & 0.0 & 0.0 & 0.0 \\\\\n",
       "\t4 & 4 & 15.6957 & 1.99063e-10 & -4.23984e-10 & 0.452166 & 0.0382066 & 0.148926 & 0.179412 & 0.138001 & 0.204543 & 0.0 & 0.0 & 0.0 & 0.0 & 0.0 & 0.0 & 0.0 & 0.0 & 0.0 \\\\\n",
       "\t5 & 5 & 13.2609 & 3.09217e-10 & -3.67258e-10 & 0.362636 & 0.0231907 & 0.12818 & 0.152881 & 0.168587 & 0.0783809 & 0.0 & 0.0 & 0.0 & 0.0 & 0.0 & 0.0 & 0.0 & 0.0 & 0.0 \\\\\n",
       "\\end{tabular}\n"
      ],
      "text/plain": [
       "5×19 DataFrame\n",
       "│ Row │ generator │ p_res   │ deltap       │ deltam       │ t        │ alpha_u1  │ alpha_u2 │ alpha_u3 │ alpha_u4 │ alpha_u5  │ ads_payment │ a_w1    │ a_w2    │ a_w3    │ a_w4    │ a_w5    │ a_w6    │ a_w7    │ a_w8    │\n",
       "│     │ \u001b[90mInt64\u001b[39m     │ \u001b[90mFloat64\u001b[39m │ \u001b[90mFloat64\u001b[39m      │ \u001b[90mFloat64\u001b[39m      │ \u001b[90mFloat64\u001b[39m  │ \u001b[90mFloat64\u001b[39m   │ \u001b[90mFloat64\u001b[39m  │ \u001b[90mFloat64\u001b[39m  │ \u001b[90mFloat64\u001b[39m  │ \u001b[90mFloat64\u001b[39m   │ \u001b[90mFloat64\u001b[39m     │ \u001b[90mFloat64\u001b[39m │ \u001b[90mFloat64\u001b[39m │ \u001b[90mFloat64\u001b[39m │ \u001b[90mFloat64\u001b[39m │ \u001b[90mFloat64\u001b[39m │ \u001b[90mFloat64\u001b[39m │ \u001b[90mFloat64\u001b[39m │ \u001b[90mFloat64\u001b[39m │\n",
       "├─────┼───────────┼─────────┼──────────────┼──────────────┼──────────┼───────────┼──────────┼──────────┼──────────┼───────────┼─────────────┼─────────┼─────────┼─────────┼─────────┼─────────┼─────────┼─────────┼─────────┤\n",
       "│ 1   │ 1         │ 26.0435 │ -4.98694e-10 │ -0.0         │ 0.718262 │ 0.185816  │ 0.191672 │ 0.230615 │ 0.307363 │ 0.239271  │ 0.0         │ 0.0     │ 0.0     │ 0.0     │ 0.0     │ 0.0     │ 0.0     │ 0.0     │ 0.0     │\n",
       "│ 2   │ 2         │ 10.0    │ -41.087      │ -2.3867e-10  │ 0.782135 │ 0.385379  │ 0.256744 │ 0.31653  │ 0.10113  │ 0.250526  │ 0.0         │ 0.0     │ 0.0     │ 0.0     │ 0.0     │ 0.0     │ 0.0     │ 0.0     │ 0.0     │\n",
       "│ 3   │ 3         │ 10.0    │ -41.087      │ -2.3867e-10  │ 0.769047 │ 0.367407  │ 0.274478 │ 0.120562 │ 0.284919 │ 0.227279  │ 0.0         │ 0.0     │ 0.0     │ 0.0     │ 0.0     │ 0.0     │ 0.0     │ 0.0     │ 0.0     │\n",
       "│ 4   │ 4         │ 15.6957 │ 1.99063e-10  │ -4.23984e-10 │ 0.452166 │ 0.0382066 │ 0.148926 │ 0.179412 │ 0.138001 │ 0.204543  │ 0.0         │ 0.0     │ 0.0     │ 0.0     │ 0.0     │ 0.0     │ 0.0     │ 0.0     │ 0.0     │\n",
       "│ 5   │ 5         │ 13.2609 │ 3.09217e-10  │ -3.67258e-10 │ 0.362636 │ 0.0231907 │ 0.12818  │ 0.152881 │ 0.168587 │ 0.0783809 │ 0.0         │ 0.0     │ 0.0     │ 0.0     │ 0.0     │ 0.0     │ 0.0     │ 0.0     │ 0.0     │"
      ]
     },
     "execution_count": 37,
     "metadata": {},
     "output_type": "execute_result"
    }
   ],
   "source": [
    "results_dfs[\"noADS\"][1]"
   ]
  },
  {
   "cell_type": "code",
   "execution_count": 21,
   "metadata": {},
   "outputs": [
    {
     "data": {
      "text/plain": [
       "2350.805554211267"
      ]
     },
     "execution_count": 21,
     "metadata": {},
     "output_type": "execute_result"
    }
   ],
   "source": [
    "objective_value(m_ads)"
   ]
  },
  {
   "cell_type": "code",
   "execution_count": 22,
   "metadata": {},
   "outputs": [
    {
     "data": {
      "text/plain": [
       "2351.127725563135"
      ]
     },
     "execution_count": 22,
     "metadata": {},
     "output_type": "execute_result"
    }
   ],
   "source": [
    "objective_value(m)"
   ]
  },
  {
   "cell_type": "code",
   "execution_count": 28,
   "metadata": {},
   "outputs": [
    {
     "data": {
      "text/html": [
       "<table class=\"data-frame\"><thead><tr><th></th><th>lambda</th></tr><tr><th></th><th>Float64</th></tr></thead><tbody><p>1 rows × 1 columns</p><tr><th>1</th><td>62.087</td></tr></tbody></table>"
      ],
      "text/latex": [
       "\\begin{tabular}{r|c}\n",
       "\t& lambda\\\\\n",
       "\t\\hline\n",
       "\t& Float64\\\\\n",
       "\t\\hline\n",
       "\t1 & 62.087 \\\\\n",
       "\\end{tabular}\n"
      ],
      "text/plain": [
       "1×1 DataFrame\n",
       "│ Row │ lambda  │\n",
       "│     │ \u001b[90mFloat64\u001b[39m │\n",
       "├─────┼─────────┤\n",
       "│ 1   │ 62.087  │"
      ]
     },
     "execution_count": 28,
     "metadata": {},
     "output_type": "execute_result"
    }
   ],
   "source": [
    "results_dfs[\"withADS\"][2]"
   ]
  },
  {
   "cell_type": "code",
   "execution_count": 29,
   "metadata": {},
   "outputs": [
    {
     "data": {
      "text/html": [
       "<table class=\"data-frame\"><thead><tr><th></th><th>lambda</th></tr><tr><th></th><th>Float64</th></tr></thead><tbody><p>1 rows × 1 columns</p><tr><th>1</th><td>62.087</td></tr></tbody></table>"
      ],
      "text/latex": [
       "\\begin{tabular}{r|c}\n",
       "\t& lambda\\\\\n",
       "\t\\hline\n",
       "\t& Float64\\\\\n",
       "\t\\hline\n",
       "\t1 & 62.087 \\\\\n",
       "\\end{tabular}\n"
      ],
      "text/plain": [
       "1×1 DataFrame\n",
       "│ Row │ lambda  │\n",
       "│     │ \u001b[90mFloat64\u001b[39m │\n",
       "├─────┼─────────┤\n",
       "│ 1   │ 62.087  │"
      ]
     },
     "execution_count": 29,
     "metadata": {},
     "output_type": "execute_result"
    }
   ],
   "source": [
    "results_dfs[\"noADS\"][2]"
   ]
  },
  {
   "cell_type": "code",
   "execution_count": 30,
   "metadata": {},
   "outputs": [
    {
     "data": {
      "text/html": [
       "<table class=\"data-frame\"><thead><tr><th></th><th>chi</th></tr><tr><th></th><th>Float64</th></tr></thead><tbody><p>5 rows × 1 columns</p><tr><th>1</th><td>1.24509</td></tr><tr><th>2</th><td>1.54053</td></tr><tr><th>3</th><td>0.728824</td></tr><tr><th>4</th><td>0.694018</td></tr><tr><th>5</th><td>1.31584</td></tr></tbody></table>"
      ],
      "text/latex": [
       "\\begin{tabular}{r|c}\n",
       "\t& chi\\\\\n",
       "\t\\hline\n",
       "\t& Float64\\\\\n",
       "\t\\hline\n",
       "\t1 & 1.24509 \\\\\n",
       "\t2 & 1.54053 \\\\\n",
       "\t3 & 0.728824 \\\\\n",
       "\t4 & 0.694018 \\\\\n",
       "\t5 & 1.31584 \\\\\n",
       "\\end{tabular}\n"
      ],
      "text/plain": [
       "5×1 DataFrame\n",
       "│ Row │ chi      │\n",
       "│     │ \u001b[90mFloat64\u001b[39m  │\n",
       "├─────┼──────────┤\n",
       "│ 1   │ 1.24509  │\n",
       "│ 2   │ 1.54053  │\n",
       "│ 3   │ 0.728824 │\n",
       "│ 4   │ 0.694018 │\n",
       "│ 5   │ 1.31584  │"
      ]
     },
     "execution_count": 30,
     "metadata": {},
     "output_type": "execute_result"
    }
   ],
   "source": [
    "results_dfs[\"withADS\"][3]"
   ]
  },
  {
   "cell_type": "code",
   "execution_count": 31,
   "metadata": {},
   "outputs": [
    {
     "data": {
      "text/html": [
       "<table class=\"data-frame\"><thead><tr><th></th><th>chi</th></tr><tr><th></th><th>Float64</th></tr></thead><tbody><p>5 rows × 1 columns</p><tr><th>1</th><td>0.918474</td></tr><tr><th>2</th><td>1.47972</td></tr><tr><th>3</th><td>1.31042</td></tr><tr><th>4</th><td>1.3431</td></tr><tr><th>5</th><td>1.11676</td></tr></tbody></table>"
      ],
      "text/latex": [
       "\\begin{tabular}{r|c}\n",
       "\t& chi\\\\\n",
       "\t\\hline\n",
       "\t& Float64\\\\\n",
       "\t\\hline\n",
       "\t1 & 0.918474 \\\\\n",
       "\t2 & 1.47972 \\\\\n",
       "\t3 & 1.31042 \\\\\n",
       "\t4 & 1.3431 \\\\\n",
       "\t5 & 1.11676 \\\\\n",
       "\\end{tabular}\n"
      ],
      "text/plain": [
       "5×1 DataFrame\n",
       "│ Row │ chi      │\n",
       "│     │ \u001b[90mFloat64\u001b[39m  │\n",
       "├─────┼──────────┤\n",
       "│ 1   │ 0.918474 │\n",
       "│ 2   │ 1.47972  │\n",
       "│ 3   │ 1.31042  │\n",
       "│ 4   │ 1.3431   │\n",
       "│ 5   │ 1.11676  │"
      ]
     },
     "execution_count": 31,
     "metadata": {},
     "output_type": "execute_result"
    }
   ],
   "source": [
    "results_dfs[\"noADS\"][3]"
   ]
  },
  {
   "cell_type": "code",
   "execution_count": 62,
   "metadata": {},
   "outputs": [
    {
     "data": {
      "text/plain": [
       "4-element Array{Float64,1}:\n",
       " -0.09919869291538723\n",
       " -0.1598964806730103 \n",
       " -0.1140495888549063 \n",
       " -0.12685523659609246"
      ]
     },
     "execution_count": 62,
     "metadata": {},
     "output_type": "execute_result"
    }
   ],
   "source": [
    "dual.(m_ads[:mubal])[1,:]"
   ]
  },
  {
   "cell_type": "code",
   "execution_count": 61,
   "metadata": {},
   "outputs": [
    {
     "data": {
      "text/plain": [
       "8-element Array{Float64,1}:\n",
       "  0.0                \n",
       "  0.0                \n",
       "  0.0                \n",
       "  0.0                \n",
       " -0.12685523659609246\n",
       " -0.11404958549086901\n",
       " -0.15989648055635408\n",
       " -0.09919869137333921"
      ]
     },
     "execution_count": 61,
     "metadata": {},
     "output_type": "execute_result"
    }
   ],
   "source": [
    "dual.(m_ads[:μ]) ./ 2"
   ]
  },
  {
   "cell_type": "code",
   "execution_count": 1,
   "metadata": {},
   "outputs": [
    {
     "ename": "UndefVarError",
     "evalue": "UndefVarError: all_variables not defined",
     "output_type": "error",
     "traceback": [
      "UndefVarError: all_variables not defined",
      "",
      "Stacktrace:",
      " [1] top-level scope at In[1]:1"
     ]
    }
   ],
   "source": [
    ":μ in all_variables(m_ads)"
   ]
  },
  {
   "cell_type": "code",
   "execution_count": 1,
   "metadata": {},
   "outputs": [
    {
     "ename": "UndefVarError",
     "evalue": "UndefVarError: Σ_k not defined",
     "output_type": "error",
     "traceback": [
      "UndefVarError: Σ_k not defined",
      "",
      "Stacktrace:",
      " [1] top-level scope at In[1]:1"
     ]
    }
   ],
   "source": [
    "Σ_k"
   ]
  },
  {
   "cell_type": "code",
   "execution_count": null,
   "metadata": {},
   "outputs": [],
   "source": []
  }
 ],
 "metadata": {
  "kernelspec": {
   "display_name": "Julia 1.3.1",
   "language": "julia",
   "name": "julia-1.3"
  },
  "language_info": {
   "file_extension": ".jl",
   "mimetype": "application/julia",
   "name": "julia",
   "version": "1.3.1"
  },
  "varInspector": {
   "cols": {
    "lenName": 16,
    "lenType": 16,
    "lenVar": 40
   },
   "kernels_config": {
    "python": {
     "delete_cmd_postfix": "",
     "delete_cmd_prefix": "del ",
     "library": "var_list.py",
     "varRefreshCmd": "print(var_dic_list())"
    },
    "r": {
     "delete_cmd_postfix": ") ",
     "delete_cmd_prefix": "rm(",
     "library": "var_list.r",
     "varRefreshCmd": "cat(var_dic_list()) "
    }
   },
   "types_to_exclude": [
    "module",
    "function",
    "builtin_function_or_method",
    "instance",
    "_Feature"
   ],
   "window_display": false
  }
 },
 "nbformat": 4,
 "nbformat_minor": 2
}
